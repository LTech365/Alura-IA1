{
  "nbformat": 4,
  "nbformat_minor": 0,
  "metadata": {
    "colab": {
      "provenance": [],
      "authorship_tag": "ABX9TyNivuguGs3IqglawvzbM7pj",
      "include_colab_link": true
    },
    "kernelspec": {
      "name": "python3",
      "display_name": "Python 3"
    },
    "language_info": {
      "name": "python"
    }
  },
  "cells": [
    {
      "cell_type": "markdown",
      "metadata": {
        "id": "view-in-github",
        "colab_type": "text"
      },
      "source": [
        "<a href=\"https://colab.research.google.com/github/LTech365/Alura-IA1/blob/main/Agente_Relatorio_MCMV.ipynb\" target=\"_parent\"><img src=\"https://colab.research.google.com/assets/colab-badge.svg\" alt=\"Open In Colab\"/></a>"
      ]
    },
    {
      "cell_type": "code",
      "execution_count": 94,
      "metadata": {
        "id": "Ql2TrmCUT7aW"
      },
      "outputs": [],
      "source": [
        "# Instalar bibliotecas necessárias\n",
        "%pip -q install google-genai google-adk"
      ]
    },
    {
      "cell_type": "code",
      "source": [
        "import os\n",
        "from google.colab import userdata\n",
        "from IPython.display import display, Markdown\n",
        "from google import genai\n",
        "from google.adk.agents import Agent\n",
        "from google.adk.runners import Runner\n",
        "from google.adk.sessions import InMemorySessionService\n",
        "from google.genai import types\n",
        "import textwrap\n",
        "import warnings\n",
        "import json # Pode ser útil para dados\n",
        "\n",
        "warnings.filterwarnings(\"ignore\") # Ignora alguns warnings que podem aparecer"
      ],
      "metadata": {
        "id": "Me-WMIY3pIRb"
      },
      "execution_count": 95,
      "outputs": []
    },
    {
      "cell_type": "code",
      "source": [
        "# Configura a API Key do Google Gemini\n",
        "\n",
        "import os\n",
        "from google.colab import userdata\n",
        "\n",
        "os.environ[\"GOOGLE_API_KEY\"] = userdata.get('GOOGLE_API_KEY')"
      ],
      "metadata": {
        "id": "99Qu53sGUL4c"
      },
      "execution_count": 96,
      "outputs": []
    },
    {
      "cell_type": "code",
      "source": [
        "# Configura o cliente da SDK do Gemini\n",
        "\n",
        "from google import genai\n",
        "\n",
        "client = genai.Client()\n",
        "\n",
        "MODEL_ID = \"gemini-2.0-flash\""
      ],
      "metadata": {
        "id": "IXgWeorkVnAh"
      },
      "execution_count": 97,
      "outputs": []
    },
    {
      "cell_type": "code",
      "source": [
        "# Função auxiliar que envia uma mensagem para um agente via Runner e retorna a resposta final.\n",
        "def call_agent_simple(agent: Agent, user_input: str) -> str:\n",
        "    session_service = InMemorySessionService()\n",
        "    # Usa um session_id genérico, pois é uma única chamada\n",
        "    session = session_service.create_session(app_name=agent.name, user_id=\"user1\", session_id=\"single_call\")\n",
        "    runner = Runner(agent=agent, app_name=agent.name, session_service=session_service)\n",
        "\n",
        "    content = types.Content(role=\"user\", parts=[types.Part(text=user_input)])\n",
        "\n",
        "    final_response = \"\"\n",
        "    for event in runner.run(user_id=\"user1\", session_id=\"single_call\", new_message=content):\n",
        "        if event.is_final_response():\n",
        "          for part in event.content.parts:\n",
        "            if part.text is not None:\n",
        "              final_response += part.text\n",
        "              final_response += \"\\n\"\n",
        "    return final_response"
      ],
      "metadata": {
        "id": "Cj3-D81xpfRC"
      },
      "execution_count": 98,
      "outputs": []
    },
    {
      "cell_type": "code",
      "source": [
        "# Função auxiliar para exibir texto formatado em Markdown no Colab.\n",
        "def to_markdown(text):\n",
        "  text = text.replace('•', '  *')\n",
        "  return Markdown(textwrap.indent(text, '> ', predicate=lambda _: True))"
      ],
      "metadata": {
        "id": "pFLwvqmIpnWq"
      },
      "execution_count": 99,
      "outputs": []
    },
    {
      "cell_type": "code",
      "source": [
        "\"\"\"### Definição do Agente Gerador de Relatório\"\"\"\n",
        "\n",
        "# --- Agente Único: Agente Gerador de Relatório ---\n",
        "# Este agente recebe os dados coletados pelo código Python e gera um relatório sumarizado.\n",
        "# Não há Agente Entrevistador neste modelo, o código Python faz a entrevista.\n",
        "def agente_gerador_relatorio_simplificado():\n",
        "    return Agent(\n",
        "        name=\"agente_gerador_relatorio\",\n",
        "        model=MODEL_ID, # Usa o modelo definido\n",
        "        description=\"Agente que recebe dados coletados de uma entrevista controlada pelo código e gera um relatório sumarizado.\",\n",
        "         # Este agente não precisa de ferramentas externas.\n",
        "        instruction=\"\"\"\n",
        "        Você é um agente especializado em gerar relatórios de dados coletados de entrevistas.\n",
        "        Receberá dados de um cliente no formato \"Campo: Resposta\".\n",
        "        Sua tarefa é organizar esses dados em um relatório claro e conciso, adequado para um analista humano revisar.\n",
        "        Liste cada dado coletado com seu respectivo valor de forma organizada.\n",
        "        \"\"\"\n",
        "    )"
      ],
      "metadata": {
        "id": "6Mg4XvVSpuMa"
      },
      "execution_count": 100,
      "outputs": []
    },
    {
      "cell_type": "code",
      "source": [
        "\"\"\"### Execução do Sistema (Entrevista Controlada pelo Código e Geração de Relatório)\"\"\"\n",
        "\n",
        "# --- Lógica Principal: Controla a Entrevista e Chama o Agente para o Relatório ---\n",
        "\n",
        "print(\"🏠 Iniciando o Sistema Simplificado de Coleta de Dados para Pré-Qualificação 🏠\")\n",
        "print(\"Por favor, responda às perguntas uma por vez.\")\n",
        "\n",
        "# Dicionário para armazenar as respostas do cliente (ficha)\n",
        "ficha_cliente = {}\n",
        "\n",
        "# --- Sequência de Perguntas Controlada pelo Código Python ---\n",
        "# Definimos as perguntas aqui, e o código as apresentará uma por uma.\n",
        "perguntas_entrevista = {\n",
        "    \"briefing\": \"Olá! Tudo bem? Qual o motivo da compra do imóvel: moradia ou investimento?\",\n",
        "    \"data_nascimento\": \"Qual a sua data de nascimento, por favor? (formato dd/mm/aaaa)\",\n",
        "    \"renda\": \"Qual a sua renda bruta familiar mensal? Considere a renda regular, sem incluir 13º salário ou bônus de férias.\",\n",
        "    \"fgts\": \"Você já trabalhou de carteira assinada por 3 anos ou mais (não precisa ser consecutivo)? (Responda Sim ou Não)\",\n",
        "    \"propriedade_imovel\": \"Você é proprietário de algum imóvel residencial que esteja QUITADO e registrado em seu nome no Registro Geral de Imóveis (RGI) da cidade? Lembre-se: terreno, lote ou imóvel financiado em outro banco NÃO é impeditivo para o MCMV. (Responda Sim ou Não)\",\n",
        "    \"beneficio_anterior\": \"Você já recebeu algum benefício habitacional anterior do governo federal? (Responda Sim ou Não)\"\n",
        "}\n",
        "\n",
        "print(\"\\n--- Iniciando Entrevista ---\")\n",
        "\n",
        "# Loop para fazer as perguntas sequencialmente\n",
        "for campo, pergunta in perguntas_entrevista.items():\n",
        "    print(f\"Atendente: {pergunta}\")\n",
        "    # Coleta a resposta do usuário diretamente no código Python\n",
        "    resposta_usuario = input(\"Você: \")\n",
        "    # Armazena a resposta na ficha\n",
        "    ficha_cliente[campo] = resposta_usuario\n",
        "    print(\"-\" * 20) # Separador para clareza na saída\n",
        "\n",
        "print(\"\\n--- Entrevista Concluída ---\")\n",
        "print(\"Dados coletados:\")\n",
        "# Exibe os dados coletados pelo código Python\n",
        "print(ficha_cliente)\n",
        "\n",
        "\n",
        "# --- Etapa 2: Executar o Agente Gerador de Relatório ---\n",
        "# Esta etapa ocorre APENAS após a entrevista ter sido concluída pelo código Python.\n",
        "\n",
        "if ficha_cliente: # Verifica se algum dado foi coletado\n",
        "    print(\"\\n--- Gerando Relatório dos Dados Coletados ---\")\n",
        "\n",
        "    # Obtenha o Agente Gerador de Relatório\n",
        "    agente_relatorio = agente_gerador_relatorio_simplificado()\n",
        "\n",
        "    # Prepara a entrada para o Agente do Relatório. Passamos os dados coletados como uma string formatada.\n",
        "    dados_para_relatorio = \"\\n\".join([f\"{k.replace('_', ' ').title()}: {v}\" for k, v in ficha_cliente.items()])\n",
        "    entrada_agente_relatorio = f\"Dados do Cliente Coletados:\\n{dados_para_relatorio}\"\n",
        "\n",
        "    # Executa o Agente do Relatório para gerar o relatório\n",
        "    relatorio_gerado = call_agent_simple(agente_relatorio, entrada_agente_relatorio)\n",
        "\n",
        "    print(\"\\n--- Relatório Final dos Dados Coletados ---\")\n",
        "    # Exibe o relatório gerado pelo Agente 2 (simulando o conteúdo do arquivo a ser salvo)\n",
        "    display(to_markdown(relatorio_gerado))\n",
        "else:\n",
        "    print(\"\\n--- Nenhum dado coletado para gerar relatório. ---\")\n",
        "\n",
        "\n",
        "print(\"\\n✅ Processo de Coleta de Dados e Geração de Relatório Concluído.\")"
      ],
      "metadata": {
        "colab": {
          "base_uri": "https://localhost:8080/",
          "height": 661
        },
        "id": "UkOBgFNRqBrR",
        "outputId": "429cccef-fec5-432a-e3f6-4f3cbd2175a6"
      },
      "execution_count": 101,
      "outputs": [
        {
          "output_type": "stream",
          "name": "stdout",
          "text": [
            "🏠 Iniciando o Sistema Simplificado de Coleta de Dados para Pré-Qualificação 🏠\n",
            "Por favor, responda às perguntas uma por vez.\n",
            "\n",
            "--- Iniciando Entrevista ---\n",
            "Atendente: Olá! Tudo bem? Qual o motivo da compra do imóvel: moradia ou investimento?\n",
            "Você: Moradia\n",
            "--------------------\n",
            "Atendente: Qual a sua data de nascimento, por favor? (formato dd/mm/aaaa)\n",
            "Você: 03/06/1978\n",
            "--------------------\n",
            "Atendente: Qual a sua renda bruta familiar mensal? Considere a renda regular, sem incluir 13º salário ou bônus de férias.\n",
            "Você: 5000,00\n",
            "--------------------\n",
            "Atendente: Você já trabalhou de carteira assinada por 3 anos ou mais (não precisa ser consecutivo)? (Responda Sim ou Não)\n",
            "Você: Sim\n",
            "--------------------\n",
            "Atendente: Você é proprietário de algum imóvel residencial que esteja QUITADO e registrado em seu nome no Registro Geral de Imóveis (RGI) da cidade? Lembre-se: terreno, lote ou imóvel financiado em outro banco NÃO é impeditivo para o MCMV. (Responda Sim ou Não)\n",
            "Você: Não\n",
            "--------------------\n",
            "Atendente: Você já recebeu algum benefício habitacional anterior do governo federal? (Responda Sim ou Não)\n",
            "Você: Não\n",
            "--------------------\n",
            "\n",
            "--- Entrevista Concluída ---\n",
            "Dados coletados:\n",
            "{'briefing': 'Moradia', 'data_nascimento': '03/06/1978', 'renda': '5000,00', 'fgts': 'Sim', 'propriedade_imovel': 'Não', 'beneficio_anterior': 'Não'}\n",
            "\n",
            "--- Gerando Relatório dos Dados Coletados ---\n",
            "\n",
            "--- Relatório Final dos Dados Coletados ---\n"
          ]
        },
        {
          "output_type": "display_data",
          "data": {
            "text/plain": [
              "<IPython.core.display.Markdown object>"
            ],
            "text/markdown": "> Relatório de Dados do Cliente:\n> \n> Briefing: Moradia\n> Data de Nascimento: 03/06/1978\n> Renda: R$ 5000,00\n> FGTS: Sim\n> Propriedade de Imóvel: Não\n> Benefício Anterior: Não\n"
          },
          "metadata": {}
        },
        {
          "output_type": "stream",
          "name": "stdout",
          "text": [
            "\n",
            "✅ Processo de Coleta de Dados e Geração de Relatório Concluído.\n"
          ]
        }
      ]
    }
  ]
}